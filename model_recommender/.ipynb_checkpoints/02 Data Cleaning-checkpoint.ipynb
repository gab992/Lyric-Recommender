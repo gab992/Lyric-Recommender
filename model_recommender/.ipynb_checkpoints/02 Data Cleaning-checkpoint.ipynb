{
 "cells": [
  {
   "cell_type": "code",
   "execution_count": 1,
   "metadata": {},
   "outputs": [],
   "source": [
    "from pymongo import MongoClient\n",
    "from pprint import pprint\n",
    "import json\n",
    "import pandas as pd\n",
    "import numpy as np\n",
    "import re\n",
    "import string"
   ]
  },
  {
   "cell_type": "code",
   "execution_count": 1,
   "metadata": {},
   "outputs": [],
   "source": [
    "from model_functions import undo_list"
   ]
  },
  {
   "cell_type": "markdown",
   "metadata": {},
   "source": [
    "**Get data from mongodb**"
   ]
  },
  {
   "cell_type": "code",
   "execution_count": 2,
   "metadata": {},
   "outputs": [],
   "source": [
    "config = {\n",
    "  'host': '',\n",
    "  'username': '',\n",
    "  'password': '',\n",
    "  'authSource': ''\n",
    "}\n",
    "\n",
    "client = MongoClient(**config)\n",
    "\n",
    "db = client.songlyrics"
   ]
  },
  {
   "cell_type": "code",
   "execution_count": 3,
   "metadata": {},
   "outputs": [
    {
     "name": "stderr",
     "output_type": "stream",
     "text": [
      "/opt/anaconda3/envs/metis/lib/python3.7/site-packages/ipykernel_launcher.py:1: DeprecationWarning: collection_names is deprecated. Use list_collection_names instead.\n",
      "  \"\"\"Entry point for launching an IPython kernel.\n"
     ]
    },
    {
     "data": {
      "text/plain": [
       "['songs']"
      ]
     },
     "execution_count": 3,
     "metadata": {},
     "output_type": "execute_result"
    }
   ],
   "source": [
    "db.collection_names()"
   ]
  },
  {
   "cell_type": "code",
   "execution_count": 4,
   "metadata": {},
   "outputs": [],
   "source": [
    "lyrics = pd.DataFrame(list(db.songs.find()))"
   ]
  },
  {
   "cell_type": "code",
   "execution_count": 5,
   "metadata": {},
   "outputs": [
    {
     "data": {
      "text/html": [
       "<div>\n",
       "<style scoped>\n",
       "    .dataframe tbody tr th:only-of-type {\n",
       "        vertical-align: middle;\n",
       "    }\n",
       "\n",
       "    .dataframe tbody tr th {\n",
       "        vertical-align: top;\n",
       "    }\n",
       "\n",
       "    .dataframe thead th {\n",
       "        text-align: right;\n",
       "    }\n",
       "</style>\n",
       "<table border=\"1\" class=\"dataframe\">\n",
       "  <thead>\n",
       "    <tr style=\"text-align: right;\">\n",
       "      <th></th>\n",
       "      <th>_id</th>\n",
       "      <th>Lyrics</th>\n",
       "      <th>Comments</th>\n",
       "      <th>Title</th>\n",
       "      <th>Release date</th>\n",
       "    </tr>\n",
       "  </thead>\n",
       "  <tbody>\n",
       "    <tr>\n",
       "      <th>0</th>\n",
       "      <td>5e4c4169b2e170f1c32f66e5</td>\n",
       "      <td>[[[Chorus], Poppin' wheelies on a Banshee, Mal...</td>\n",
       "      <td>[“Lil Bitch” was first previewed as a snippet ...</td>\n",
       "      <td>21 Savage – Lil Bitch Lyrics | Genius Lyrics</td>\n",
       "      <td>NaN</td>\n",
       "    </tr>\n",
       "    <tr>\n",
       "      <th>1</th>\n",
       "      <td>5e4c4169b2e170f1c32f66e6</td>\n",
       "      <td>[[[Intro: 21 Savage], Spicy, Yeah, , [Chorus: ...</td>\n",
       "      <td>[“HETHEN” is an unreleased collaboration betwe...</td>\n",
       "      <td>21 Savage, Offset &amp; Metro Boomin – HETHEN Lyri...</td>\n",
       "      <td>April 27, 2019</td>\n",
       "    </tr>\n",
       "    <tr>\n",
       "      <th>2</th>\n",
       "      <td>5e4c4169b2e170f1c32f66e7</td>\n",
       "      <td>[[[Instrumental]]]</td>\n",
       "      <td>[]</td>\n",
       "      <td>404 – Broken Toe Lyrics | Genius Lyrics</td>\n",
       "      <td>December 10, 2015</td>\n",
       "    </tr>\n",
       "    <tr>\n",
       "      <th>3</th>\n",
       "      <td>5e4c4169b2e170f1c32f66e8</td>\n",
       "      <td>[[[Intro:], Just don't defy me!, Just don't de...</td>\n",
       "      <td>[]</td>\n",
       "      <td>404 – Defy Lyrics | Genius Lyrics</td>\n",
       "      <td>December 10, 2015</td>\n",
       "    </tr>\n",
       "    <tr>\n",
       "      <th>4</th>\n",
       "      <td>5e4c416ab2e170f1c32f66e9</td>\n",
       "      <td>[[[Skit:], Alright, go ahead and turn on the m...</td>\n",
       "      <td>[]</td>\n",
       "      <td>404 – Filler Lyrics | Genius Lyrics</td>\n",
       "      <td>December 10, 2015</td>\n",
       "    </tr>\n",
       "  </tbody>\n",
       "</table>\n",
       "</div>"
      ],
      "text/plain": [
       "                        _id  \\\n",
       "0  5e4c4169b2e170f1c32f66e5   \n",
       "1  5e4c4169b2e170f1c32f66e6   \n",
       "2  5e4c4169b2e170f1c32f66e7   \n",
       "3  5e4c4169b2e170f1c32f66e8   \n",
       "4  5e4c416ab2e170f1c32f66e9   \n",
       "\n",
       "                                              Lyrics  \\\n",
       "0  [[[Chorus], Poppin' wheelies on a Banshee, Mal...   \n",
       "1  [[[Intro: 21 Savage], Spicy, Yeah, , [Chorus: ...   \n",
       "2                                 [[[Instrumental]]]   \n",
       "3  [[[Intro:], Just don't defy me!, Just don't de...   \n",
       "4  [[[Skit:], Alright, go ahead and turn on the m...   \n",
       "\n",
       "                                            Comments  \\\n",
       "0  [“Lil Bitch” was first previewed as a snippet ...   \n",
       "1  [“HETHEN” is an unreleased collaboration betwe...   \n",
       "2                                                 []   \n",
       "3                                                 []   \n",
       "4                                                 []   \n",
       "\n",
       "                                               Title       Release date  \n",
       "0       21 Savage – Lil Bitch Lyrics | Genius Lyrics                NaN  \n",
       "1  21 Savage, Offset & Metro Boomin – HETHEN Lyri...     April 27, 2019  \n",
       "2            404 – Broken Toe Lyrics | Genius Lyrics  December 10, 2015  \n",
       "3                  404 – Defy Lyrics | Genius Lyrics  December 10, 2015  \n",
       "4                404 – Filler Lyrics | Genius Lyrics  December 10, 2015  "
      ]
     },
     "execution_count": 5,
     "metadata": {},
     "output_type": "execute_result"
    }
   ],
   "source": [
    "lyrics.head()"
   ]
  },
  {
   "cell_type": "code",
   "execution_count": 7,
   "metadata": {},
   "outputs": [],
   "source": [
    "# Undo lists, resulting in one string of lyrics for each song\n",
    "\n",
    "lyrics.Lyrics = lyrics.Lyrics.apply(lambda row: undo_list(row))"
   ]
  },
  {
   "cell_type": "markdown",
   "metadata": {},
   "source": [
    "**Basic cleaning, removing numbers and punctuation**"
   ]
  },
  {
   "cell_type": "code",
   "execution_count": 8,
   "metadata": {},
   "outputs": [],
   "source": [
    "alphanumeric = lambda x: re.sub('\\w*\\d\\w*', ' ', x)\n",
    "punc_lower = lambda x: re.sub('[%s]' % re.escape(string.punctuation), '', x.lower())"
   ]
  },
  {
   "cell_type": "code",
   "execution_count": 9,
   "metadata": {},
   "outputs": [],
   "source": [
    "lyrics.Lyrics = lyrics.Lyrics.map(alphanumeric).map(punc_lower).map(lambda row: re.sub(r'[^\\x00-\\x7F]+','', row)).map(lambda row: re.sub(' +', ' ',row)).map(lambda row: re.sub(r'chorus|verse|intro|bridge|outro','', row).strip()).map(lambda row: re.sub(r'colour','color',row))\n"
   ]
  },
  {
   "cell_type": "code",
   "execution_count": 10,
   "metadata": {},
   "outputs": [
    {
     "data": {
      "text/plain": [
       "'wasting your days chasing some girls alright chasing cocaine through the backrooms of the world all night wasting your days chasing some girls alright chasing cocaine through the backrooms of the world all night sounds smash hits melody maker nme all sound like a dream to me all sound like a dream to me all sounds like a dream sounds smash hits melody maker nme all sound like a dream to me all sound like a dream to me all sounds like a dream step out of your toga and into the fog you are a prince on the ocean in a pinch in the sky in your eye step out of your toga and into the ocean look they got your prints on the fog in a pinch in the sky in your eye in the sky in your eye in a pinch in the sky in your eye i wrote a song for america who knew i wrote a song for america who knew who knew'"
      ]
     },
     "execution_count": 10,
     "metadata": {},
     "output_type": "execute_result"
    }
   ],
   "source": [
    "lyrics.Lyrics[475]"
   ]
  },
  {
   "cell_type": "code",
   "execution_count": 11,
   "metadata": {},
   "outputs": [
    {
     "data": {
      "text/html": [
       "<div>\n",
       "<style scoped>\n",
       "    .dataframe tbody tr th:only-of-type {\n",
       "        vertical-align: middle;\n",
       "    }\n",
       "\n",
       "    .dataframe tbody tr th {\n",
       "        vertical-align: top;\n",
       "    }\n",
       "\n",
       "    .dataframe thead th {\n",
       "        text-align: right;\n",
       "    }\n",
       "</style>\n",
       "<table border=\"1\" class=\"dataframe\">\n",
       "  <thead>\n",
       "    <tr style=\"text-align: right;\">\n",
       "      <th></th>\n",
       "      <th>_id</th>\n",
       "      <th>Lyrics</th>\n",
       "      <th>Comments</th>\n",
       "      <th>Title</th>\n",
       "      <th>Release date</th>\n",
       "    </tr>\n",
       "  </thead>\n",
       "  <tbody>\n",
       "    <tr>\n",
       "      <th>0</th>\n",
       "      <td>5e4c4169b2e170f1c32f66e5</td>\n",
       "      <td>poppin wheelies on a banshee male groupie on s...</td>\n",
       "      <td>[“Lil Bitch” was first previewed as a snippet ...</td>\n",
       "      <td>21 Savage – Lil Bitch Lyrics | Genius Lyrics</td>\n",
       "      <td>NaN</td>\n",
       "    </tr>\n",
       "    <tr>\n",
       "      <th>1</th>\n",
       "      <td>5e4c4169b2e170f1c32f66e6</td>\n",
       "      <td>savage spicy yeah  offset hey fore i take a na...</td>\n",
       "      <td>[“HETHEN” is an unreleased collaboration betwe...</td>\n",
       "      <td>21 Savage, Offset &amp; Metro Boomin – HETHEN Lyri...</td>\n",
       "      <td>April 27, 2019</td>\n",
       "    </tr>\n",
       "    <tr>\n",
       "      <th>2</th>\n",
       "      <td>5e4c4169b2e170f1c32f66e7</td>\n",
       "      <td>instrumental</td>\n",
       "      <td>[]</td>\n",
       "      <td>404 – Broken Toe Lyrics | Genius Lyrics</td>\n",
       "      <td>December 10, 2015</td>\n",
       "    </tr>\n",
       "    <tr>\n",
       "      <th>3</th>\n",
       "      <td>5e4c4169b2e170f1c32f66e8</td>\n",
       "      <td>just dont defy me just dont defy me just dont ...</td>\n",
       "      <td>[]</td>\n",
       "      <td>404 – Defy Lyrics | Genius Lyrics</td>\n",
       "      <td>December 10, 2015</td>\n",
       "    </tr>\n",
       "    <tr>\n",
       "      <th>4</th>\n",
       "      <td>5e4c416ab2e170f1c32f66e9</td>\n",
       "      <td>skit alright go ahead and turn on the music ye...</td>\n",
       "      <td>[]</td>\n",
       "      <td>404 – Filler Lyrics | Genius Lyrics</td>\n",
       "      <td>December 10, 2015</td>\n",
       "    </tr>\n",
       "  </tbody>\n",
       "</table>\n",
       "</div>"
      ],
      "text/plain": [
       "                        _id  \\\n",
       "0  5e4c4169b2e170f1c32f66e5   \n",
       "1  5e4c4169b2e170f1c32f66e6   \n",
       "2  5e4c4169b2e170f1c32f66e7   \n",
       "3  5e4c4169b2e170f1c32f66e8   \n",
       "4  5e4c416ab2e170f1c32f66e9   \n",
       "\n",
       "                                              Lyrics  \\\n",
       "0  poppin wheelies on a banshee male groupie on s...   \n",
       "1  savage spicy yeah  offset hey fore i take a na...   \n",
       "2                                       instrumental   \n",
       "3  just dont defy me just dont defy me just dont ...   \n",
       "4  skit alright go ahead and turn on the music ye...   \n",
       "\n",
       "                                            Comments  \\\n",
       "0  [“Lil Bitch” was first previewed as a snippet ...   \n",
       "1  [“HETHEN” is an unreleased collaboration betwe...   \n",
       "2                                                 []   \n",
       "3                                                 []   \n",
       "4                                                 []   \n",
       "\n",
       "                                               Title       Release date  \n",
       "0       21 Savage – Lil Bitch Lyrics | Genius Lyrics                NaN  \n",
       "1  21 Savage, Offset & Metro Boomin – HETHEN Lyri...     April 27, 2019  \n",
       "2            404 – Broken Toe Lyrics | Genius Lyrics  December 10, 2015  \n",
       "3                  404 – Defy Lyrics | Genius Lyrics  December 10, 2015  \n",
       "4                404 – Filler Lyrics | Genius Lyrics  December 10, 2015  "
      ]
     },
     "execution_count": 11,
     "metadata": {},
     "output_type": "execute_result"
    }
   ],
   "source": [
    "lyrics.head()"
   ]
  },
  {
   "cell_type": "markdown",
   "metadata": {},
   "source": [
    "**Creating artist and track columns from title column**"
   ]
  },
  {
   "cell_type": "code",
   "execution_count": 12,
   "metadata": {},
   "outputs": [
    {
     "name": "stderr",
     "output_type": "stream",
     "text": [
      "/opt/anaconda3/envs/metis/lib/python3.7/site-packages/ipykernel_launcher.py:1: UserWarning: Pandas doesn't allow columns to be created via a new attribute name - see https://pandas.pydata.org/pandas-docs/stable/indexing.html#attribute-access\n",
      "  \"\"\"Entry point for launching an IPython kernel.\n"
     ]
    }
   ],
   "source": [
    "lyrics.Artist = lyrics.Title.map(lambda row: re.findall(r'^(.+?)–', row)).map(lambda row: undo_list(row).strip()).map(lambda row: re.sub(r'\\xa0',' ', row))\n"
   ]
  },
  {
   "cell_type": "code",
   "execution_count": 13,
   "metadata": {},
   "outputs": [],
   "source": [
    "lyrics['Artist'] = lyrics.Artist"
   ]
  },
  {
   "cell_type": "code",
   "execution_count": 14,
   "metadata": {},
   "outputs": [
    {
     "data": {
      "text/plain": [
       "array(['21 Savage', '21 Savage, Offset & Metro Boomin', '404',\n",
       "       'A$AP Rocky', 'Amen Dunes', 'Angel Olsen', 'ANOHNI', 'Aphex Twin',\n",
       "       'Arca', 'Arcade Fire', 'Arctic Monkeys', 'Ariana Grande',\n",
       "       'A Tribe Called Quest', 'Bad Bunny', 'Beach House', 'Beyoncé',\n",
       "       'Big Thief', 'Bill Callahan', 'Björk', '', 'Blood Orange',\n",
       "       'Bon Iver', 'Burial', 'Cardi B & YG', 'Cardi B',\n",
       "       'Cardi B, Bad Bunny & J Balvin', 'Caribou', 'Carly Rae Jepsen',\n",
       "       'Car Seat Headrest', 'Chance the Rapper', 'Charli XCX',\n",
       "       'Chief Keef', 'Chromatics', 'CHVRCHES', 'Courtney Barnett',\n",
       "       'Daft Punk', 'Danny Brown', 'David Bowie', 'Deafheaven',\n",
       "       'Death Grips', 'Deerhunter', 'Destroyer', 'Dirty Projectors',\n",
       "       'Disclosure', 'DJ Koze', 'DJ Rashad', 'Downtown Boys', 'Drake',\n",
       "       'Earl Sweatshirt', 'EMA', 'Emeralds', 'Father John Misty',\n",
       "       'Fennesz', 'Fever Ray', 'FKA twigs', 'Fleet Foxes', 'Flying Lotus',\n",
       "       'Four Tet', 'Frankie Cosmos', 'Frank Ocean', 'G.L.O.S.S.',\n",
       "       'Gil Scott-Heron', 'Girls', 'Grimes', 'Grouper', 'Hailu Mergia',\n",
       "       'HAIM', 'Helado Negro', 'Hop Along', 'Hurray For The Riff Raff',\n",
       "       'Iceage', 'Jai Paul', 'Jamie xx', 'Jamila Woods', 'Janelle Monáe',\n",
       "       'Japandroids', 'Jay Som', 'Jean Grae & Quelle Chris', 'Jenny Hval',\n",
       "       'Jenny Lewis', 'Jeremih', 'Jessica Pratt', 'Jessie Ware', 'Jlin',\n",
       "       'Joanna Newsom', 'Joyce Manor', 'JPEGMAFIA',\n",
       "       'JPEGMAFIA & Kenny Beats', 'Julianna Barwick', 'Julia Holter',\n",
       "       'Junior Reid', 'Kacey Musgraves', 'Kamasi Washington',\n",
       "       'Kanye West', 'Kareem Lotfy', 'Kate Bush', 'KAYTRANADA', 'Kelela',\n",
       "       'Kendrick Lamar', 'King Krule', 'Kurt Vile', 'Lady Gaga',\n",
       "       'LCD Soundsystem', 'Leonard Cohen', 'Lorde', 'Low',\n",
       "       'M.E.S.H. (Germany)', 'M83', 'Mac DeMarco', 'Malibu',\n",
       "       'Margo Price', 'Mark Nevers', 'Meek Mill', 'Miranda Lambert',\n",
       "       'Mitski', 'Moses Sumney', 'Mount Eerie', 'Nicolas Jaar',\n",
       "       'Noah Count', 'Noname', 'Oneohtrix Point Never', 'Pallbearer',\n",
       "       'Panda Bear', 'Paramore', 'Parquet Courts', 'Perfume Genius',\n",
       "       'PJ Harvey', 'Playboi Carti & Nicki Minaj', 'Playboi Carti',\n",
       "       'Popcaan', 'Portal', 'Purple Mountains', 'Pusha T', 'Queen',\n",
       "       'Radiohead', 'RATKING', 'Rick Ross', 'Rihanna', 'Robyn', 'ROSALÍA',\n",
       "       'Run The Jewels', 'Sampha', 'Savages', 'Shabazz Palaces',\n",
       "       'Sharon Van Etten', 'Sky Ferreira', 'Sleigh Bells', 'Snail Mail',\n",
       "       'Soccer Mommy', 'Solange', 'SOPHIE', 'St. Vincent', 'Stalley',\n",
       "       'Sturgill Simpson', 'Sunny Day Real Estate', 'Swae Lee',\n",
       "       'Tame Impala', 'The 1975', 'The 77s', 'The Hotelier', 'The Knife',\n",
       "       'The National', 'The War on Drugs', 'The Weeknd', 'Tierra Whack',\n",
       "       'Tim Hecker', 'Tirzah', 'Titus Andronicus', 'Todd Terje',\n",
       "       'Tyler, The Creator', 'U.S. Girls', 'Vampire Weekend',\n",
       "       'Vince Staples', 'Waka Flocka Flame', 'Waxahatchee', 'Weyes Blood',\n",
       "       'WU LYF', 'Young Thug', 'Yves Tumor & Croatian Amor', 'Yves Tumor',\n",
       "       '\\u200bgirlpool', 'Lana Del Rey', 'Lil Peep & Lil Tracy',\n",
       "       'Lil Peep', 'Nicki Minaj', 'Taylor Swift'], dtype=object)"
      ]
     },
     "execution_count": 14,
     "metadata": {},
     "output_type": "execute_result"
    }
   ],
   "source": [
    "lyrics.Artist.unique()"
   ]
  },
  {
   "cell_type": "code",
   "execution_count": 15,
   "metadata": {},
   "outputs": [
    {
     "data": {
      "text/plain": [
       "'21 Savage'"
      ]
     },
     "execution_count": 15,
     "metadata": {},
     "output_type": "execute_result"
    }
   ],
   "source": [
    "lyrics['Artist'][0]"
   ]
  },
  {
   "cell_type": "code",
   "execution_count": 16,
   "metadata": {},
   "outputs": [
    {
     "name": "stderr",
     "output_type": "stream",
     "text": [
      "/opt/anaconda3/envs/metis/lib/python3.7/site-packages/ipykernel_launcher.py:1: UserWarning: Pandas doesn't allow columns to be created via a new attribute name - see https://pandas.pydata.org/pandas-docs/stable/indexing.html#attribute-access\n",
      "  \"\"\"Entry point for launching an IPython kernel.\n"
     ]
    }
   ],
   "source": [
    "lyrics.Track = lyrics.Title.map(lambda row: re.findall(r'– (.+?) Lyrics', row)).map(lambda row: undo_list(row).strip())"
   ]
  },
  {
   "cell_type": "code",
   "execution_count": 17,
   "metadata": {},
   "outputs": [],
   "source": [
    "lyrics['Track'] = lyrics.Track"
   ]
  },
  {
   "cell_type": "code",
   "execution_count": 18,
   "metadata": {},
   "outputs": [
    {
     "data": {
      "text/html": [
       "<div>\n",
       "<style scoped>\n",
       "    .dataframe tbody tr th:only-of-type {\n",
       "        vertical-align: middle;\n",
       "    }\n",
       "\n",
       "    .dataframe tbody tr th {\n",
       "        vertical-align: top;\n",
       "    }\n",
       "\n",
       "    .dataframe thead th {\n",
       "        text-align: right;\n",
       "    }\n",
       "</style>\n",
       "<table border=\"1\" class=\"dataframe\">\n",
       "  <thead>\n",
       "    <tr style=\"text-align: right;\">\n",
       "      <th></th>\n",
       "      <th>_id</th>\n",
       "      <th>Lyrics</th>\n",
       "      <th>Comments</th>\n",
       "      <th>Title</th>\n",
       "      <th>Release date</th>\n",
       "      <th>Artist</th>\n",
       "      <th>Track</th>\n",
       "    </tr>\n",
       "  </thead>\n",
       "  <tbody>\n",
       "    <tr>\n",
       "      <th>0</th>\n",
       "      <td>5e4c4169b2e170f1c32f66e5</td>\n",
       "      <td>poppin wheelies on a banshee male groupie on s...</td>\n",
       "      <td>[“Lil Bitch” was first previewed as a snippet ...</td>\n",
       "      <td>21 Savage – Lil Bitch Lyrics | Genius Lyrics</td>\n",
       "      <td>NaN</td>\n",
       "      <td>21 Savage</td>\n",
       "      <td>Lil Bitch</td>\n",
       "    </tr>\n",
       "    <tr>\n",
       "      <th>1</th>\n",
       "      <td>5e4c4169b2e170f1c32f66e6</td>\n",
       "      <td>savage spicy yeah  offset hey fore i take a na...</td>\n",
       "      <td>[“HETHEN” is an unreleased collaboration betwe...</td>\n",
       "      <td>21 Savage, Offset &amp; Metro Boomin – HETHEN Lyri...</td>\n",
       "      <td>April 27, 2019</td>\n",
       "      <td>21 Savage, Offset &amp; Metro Boomin</td>\n",
       "      <td>HETHEN</td>\n",
       "    </tr>\n",
       "    <tr>\n",
       "      <th>2</th>\n",
       "      <td>5e4c4169b2e170f1c32f66e7</td>\n",
       "      <td>instrumental</td>\n",
       "      <td>[]</td>\n",
       "      <td>404 – Broken Toe Lyrics | Genius Lyrics</td>\n",
       "      <td>December 10, 2015</td>\n",
       "      <td>404</td>\n",
       "      <td>Broken Toe</td>\n",
       "    </tr>\n",
       "    <tr>\n",
       "      <th>3</th>\n",
       "      <td>5e4c4169b2e170f1c32f66e8</td>\n",
       "      <td>just dont defy me just dont defy me just dont ...</td>\n",
       "      <td>[]</td>\n",
       "      <td>404 – Defy Lyrics | Genius Lyrics</td>\n",
       "      <td>December 10, 2015</td>\n",
       "      <td>404</td>\n",
       "      <td>Defy</td>\n",
       "    </tr>\n",
       "    <tr>\n",
       "      <th>4</th>\n",
       "      <td>5e4c416ab2e170f1c32f66e9</td>\n",
       "      <td>skit alright go ahead and turn on the music ye...</td>\n",
       "      <td>[]</td>\n",
       "      <td>404 – Filler Lyrics | Genius Lyrics</td>\n",
       "      <td>December 10, 2015</td>\n",
       "      <td>404</td>\n",
       "      <td>Filler</td>\n",
       "    </tr>\n",
       "    <tr>\n",
       "      <th>...</th>\n",
       "      <td>...</td>\n",
       "      <td>...</td>\n",
       "      <td>...</td>\n",
       "      <td>...</td>\n",
       "      <td>...</td>\n",
       "      <td>...</td>\n",
       "      <td>...</td>\n",
       "    </tr>\n",
       "    <tr>\n",
       "      <th>2165</th>\n",
       "      <td>5e4c452fc2438bf52e1bcbc4</td>\n",
       "      <td>im pretty sure we almost broke up last night i...</td>\n",
       "      <td>[This song is Taylor imagining what a perfect ...</td>\n",
       "      <td>Taylor Swift – Stay Stay Stay Lyrics | Genius ...</td>\n",
       "      <td>October 22, 2012</td>\n",
       "      <td>Taylor Swift</td>\n",
       "      <td>Stay Stay Stay</td>\n",
       "    </tr>\n",
       "    <tr>\n",
       "      <th>2166</th>\n",
       "      <td>5e4c452fc2438bf52e1bcbc5</td>\n",
       "      <td>gary lightbody find myself at your door just l...</td>\n",
       "      <td>[This is the album version of this song, for t...</td>\n",
       "      <td>Taylor Swift – The Last Time Lyrics | Genius L...</td>\n",
       "      <td>October 22, 2012</td>\n",
       "      <td>Taylor Swift</td>\n",
       "      <td>The Last Time</td>\n",
       "    </tr>\n",
       "    <tr>\n",
       "      <th>2167</th>\n",
       "      <td>5e4c452fc2438bf52e1bcbc6</td>\n",
       "      <td>new to town with a made up name in the angels ...</td>\n",
       "      <td>[The song is about a star who had it all- and ...</td>\n",
       "      <td>Taylor Swift – The Lucky One Lyrics | Genius L...</td>\n",
       "      <td>October 22, 2012</td>\n",
       "      <td>Taylor Swift</td>\n",
       "      <td>The Lucky One</td>\n",
       "    </tr>\n",
       "    <tr>\n",
       "      <th>2168</th>\n",
       "      <td>5e4c452fc2438bf52e1bcbc7</td>\n",
       "      <td>put your lips close to mine as long as they do...</td>\n",
       "      <td>[Something that is treacherous is something ha...</td>\n",
       "      <td>Taylor Swift – Treacherous Lyrics | Genius Lyrics</td>\n",
       "      <td>October 22, 2012</td>\n",
       "      <td>Taylor Swift</td>\n",
       "      <td>Treacherous</td>\n",
       "    </tr>\n",
       "    <tr>\n",
       "      <th>2169</th>\n",
       "      <td>5e4c452fc2438bf52e1bcbc8</td>\n",
       "      <td>i remember when we broke up the first time say...</td>\n",
       "      <td>[Taylor Swift refuses to continue an on-and-of...</td>\n",
       "      <td>Taylor Swift – We Are Never Ever Getting Back ...</td>\n",
       "      <td>August 13, 2012</td>\n",
       "      <td>Taylor Swift</td>\n",
       "      <td>We Are Never Ever Getting Back Together</td>\n",
       "    </tr>\n",
       "  </tbody>\n",
       "</table>\n",
       "<p>2170 rows × 7 columns</p>\n",
       "</div>"
      ],
      "text/plain": [
       "                           _id  \\\n",
       "0     5e4c4169b2e170f1c32f66e5   \n",
       "1     5e4c4169b2e170f1c32f66e6   \n",
       "2     5e4c4169b2e170f1c32f66e7   \n",
       "3     5e4c4169b2e170f1c32f66e8   \n",
       "4     5e4c416ab2e170f1c32f66e9   \n",
       "...                        ...   \n",
       "2165  5e4c452fc2438bf52e1bcbc4   \n",
       "2166  5e4c452fc2438bf52e1bcbc5   \n",
       "2167  5e4c452fc2438bf52e1bcbc6   \n",
       "2168  5e4c452fc2438bf52e1bcbc7   \n",
       "2169  5e4c452fc2438bf52e1bcbc8   \n",
       "\n",
       "                                                 Lyrics  \\\n",
       "0     poppin wheelies on a banshee male groupie on s...   \n",
       "1     savage spicy yeah  offset hey fore i take a na...   \n",
       "2                                          instrumental   \n",
       "3     just dont defy me just dont defy me just dont ...   \n",
       "4     skit alright go ahead and turn on the music ye...   \n",
       "...                                                 ...   \n",
       "2165  im pretty sure we almost broke up last night i...   \n",
       "2166  gary lightbody find myself at your door just l...   \n",
       "2167  new to town with a made up name in the angels ...   \n",
       "2168  put your lips close to mine as long as they do...   \n",
       "2169  i remember when we broke up the first time say...   \n",
       "\n",
       "                                               Comments  \\\n",
       "0     [“Lil Bitch” was first previewed as a snippet ...   \n",
       "1     [“HETHEN” is an unreleased collaboration betwe...   \n",
       "2                                                    []   \n",
       "3                                                    []   \n",
       "4                                                    []   \n",
       "...                                                 ...   \n",
       "2165  [This song is Taylor imagining what a perfect ...   \n",
       "2166  [This is the album version of this song, for t...   \n",
       "2167  [The song is about a star who had it all- and ...   \n",
       "2168  [Something that is treacherous is something ha...   \n",
       "2169  [Taylor Swift refuses to continue an on-and-of...   \n",
       "\n",
       "                                                  Title       Release date  \\\n",
       "0          21 Savage – Lil Bitch Lyrics | Genius Lyrics                NaN   \n",
       "1     21 Savage, Offset & Metro Boomin – HETHEN Lyri...     April 27, 2019   \n",
       "2               404 – Broken Toe Lyrics | Genius Lyrics  December 10, 2015   \n",
       "3                     404 – Defy Lyrics | Genius Lyrics  December 10, 2015   \n",
       "4                   404 – Filler Lyrics | Genius Lyrics  December 10, 2015   \n",
       "...                                                 ...                ...   \n",
       "2165  Taylor Swift – Stay Stay Stay Lyrics | Genius ...   October 22, 2012   \n",
       "2166  Taylor Swift – The Last Time Lyrics | Genius L...   October 22, 2012   \n",
       "2167  Taylor Swift – The Lucky One Lyrics | Genius L...   October 22, 2012   \n",
       "2168  Taylor Swift – Treacherous Lyrics | Genius Lyrics   October 22, 2012   \n",
       "2169  Taylor Swift – We Are Never Ever Getting Back ...    August 13, 2012   \n",
       "\n",
       "                                Artist  \\\n",
       "0                            21 Savage   \n",
       "1     21 Savage, Offset & Metro Boomin   \n",
       "2                                  404   \n",
       "3                                  404   \n",
       "4                                  404   \n",
       "...                                ...   \n",
       "2165                      Taylor Swift   \n",
       "2166                      Taylor Swift   \n",
       "2167                      Taylor Swift   \n",
       "2168                      Taylor Swift   \n",
       "2169                      Taylor Swift   \n",
       "\n",
       "                                        Track  \n",
       "0                                   Lil Bitch  \n",
       "1                                      HETHEN  \n",
       "2                                  Broken Toe  \n",
       "3                                        Defy  \n",
       "4                                      Filler  \n",
       "...                                       ...  \n",
       "2165                           Stay Stay Stay  \n",
       "2166                            The Last Time  \n",
       "2167                            The Lucky One  \n",
       "2168                              Treacherous  \n",
       "2169  We Are Never Ever Getting Back Together  \n",
       "\n",
       "[2170 rows x 7 columns]"
      ]
     },
     "execution_count": 18,
     "metadata": {},
     "output_type": "execute_result"
    }
   ],
   "source": [
    "lyrics"
   ]
  },
  {
   "cell_type": "code",
   "execution_count": 19,
   "metadata": {},
   "outputs": [],
   "source": [
    "lyrics = lyrics.loc[lyrics.Lyrics != 'instrumental'].reset_index()\n",
    "lyrics = lyrics.drop(columns=['index','_id','Comments','Title'], index=1)\n",
    "lyrics = lyrics.loc[lyrics.Lyrics != 'nonlyrical'].reset_index()\n",
    "lyrics = lyrics.drop(columns=['index'], index=1)"
   ]
  },
  {
   "cell_type": "code",
   "execution_count": 20,
   "metadata": {},
   "outputs": [],
   "source": [
    "lyrics = lyrics.dropna(subset=['Lyrics'])"
   ]
  },
  {
   "cell_type": "code",
   "execution_count": 21,
   "metadata": {},
   "outputs": [
    {
     "data": {
      "text/html": [
       "<div>\n",
       "<style scoped>\n",
       "    .dataframe tbody tr th:only-of-type {\n",
       "        vertical-align: middle;\n",
       "    }\n",
       "\n",
       "    .dataframe tbody tr th {\n",
       "        vertical-align: top;\n",
       "    }\n",
       "\n",
       "    .dataframe thead th {\n",
       "        text-align: right;\n",
       "    }\n",
       "</style>\n",
       "<table border=\"1\" class=\"dataframe\">\n",
       "  <thead>\n",
       "    <tr style=\"text-align: right;\">\n",
       "      <th></th>\n",
       "      <th>Lyrics</th>\n",
       "      <th>Release date</th>\n",
       "      <th>Artist</th>\n",
       "      <th>Track</th>\n",
       "    </tr>\n",
       "  </thead>\n",
       "  <tbody>\n",
       "    <tr>\n",
       "      <th>0</th>\n",
       "      <td>poppin wheelies on a banshee male groupie on s...</td>\n",
       "      <td>NaN</td>\n",
       "      <td>21 Savage</td>\n",
       "      <td>Lil Bitch</td>\n",
       "    </tr>\n",
       "    <tr>\n",
       "      <th>2</th>\n",
       "      <td>skit alright go ahead and turn on the music ye...</td>\n",
       "      <td>December 10, 2015</td>\n",
       "      <td>404</td>\n",
       "      <td>Filler</td>\n",
       "    </tr>\n",
       "    <tr>\n",
       "      <th>3</th>\n",
       "      <td>can you say that youve converted someone today...</td>\n",
       "      <td>December 10, 2015</td>\n",
       "      <td>404</td>\n",
       "      <td>Finding Something New</td>\n",
       "    </tr>\n",
       "    <tr>\n",
       "      <th>4</th>\n",
       "      <td>youve given me what you think i want but do yo...</td>\n",
       "      <td>December 10, 2015</td>\n",
       "      <td>404</td>\n",
       "      <td>Lead Me to the Promised Land</td>\n",
       "    </tr>\n",
       "    <tr>\n",
       "      <th>5</th>\n",
       "      <td>is anybody else getting as tired with politics...</td>\n",
       "      <td>December 10, 2015</td>\n",
       "      <td>404</td>\n",
       "      <td>Obscene</td>\n",
       "    </tr>\n",
       "    <tr>\n",
       "      <th>...</th>\n",
       "      <td>...</td>\n",
       "      <td>...</td>\n",
       "      <td>...</td>\n",
       "      <td>...</td>\n",
       "    </tr>\n",
       "    <tr>\n",
       "      <th>2029</th>\n",
       "      <td>im pretty sure we almost broke up last night i...</td>\n",
       "      <td>October 22, 2012</td>\n",
       "      <td>Taylor Swift</td>\n",
       "      <td>Stay Stay Stay</td>\n",
       "    </tr>\n",
       "    <tr>\n",
       "      <th>2030</th>\n",
       "      <td>gary lightbody find myself at your door just l...</td>\n",
       "      <td>October 22, 2012</td>\n",
       "      <td>Taylor Swift</td>\n",
       "      <td>The Last Time</td>\n",
       "    </tr>\n",
       "    <tr>\n",
       "      <th>2031</th>\n",
       "      <td>new to town with a made up name in the angels ...</td>\n",
       "      <td>October 22, 2012</td>\n",
       "      <td>Taylor Swift</td>\n",
       "      <td>The Lucky One</td>\n",
       "    </tr>\n",
       "    <tr>\n",
       "      <th>2032</th>\n",
       "      <td>put your lips close to mine as long as they do...</td>\n",
       "      <td>October 22, 2012</td>\n",
       "      <td>Taylor Swift</td>\n",
       "      <td>Treacherous</td>\n",
       "    </tr>\n",
       "    <tr>\n",
       "      <th>2033</th>\n",
       "      <td>i remember when we broke up the first time say...</td>\n",
       "      <td>August 13, 2012</td>\n",
       "      <td>Taylor Swift</td>\n",
       "      <td>We Are Never Ever Getting Back Together</td>\n",
       "    </tr>\n",
       "  </tbody>\n",
       "</table>\n",
       "<p>2033 rows × 4 columns</p>\n",
       "</div>"
      ],
      "text/plain": [
       "                                                 Lyrics       Release date  \\\n",
       "0     poppin wheelies on a banshee male groupie on s...                NaN   \n",
       "2     skit alright go ahead and turn on the music ye...  December 10, 2015   \n",
       "3     can you say that youve converted someone today...  December 10, 2015   \n",
       "4     youve given me what you think i want but do yo...  December 10, 2015   \n",
       "5     is anybody else getting as tired with politics...  December 10, 2015   \n",
       "...                                                 ...                ...   \n",
       "2029  im pretty sure we almost broke up last night i...   October 22, 2012   \n",
       "2030  gary lightbody find myself at your door just l...   October 22, 2012   \n",
       "2031  new to town with a made up name in the angels ...   October 22, 2012   \n",
       "2032  put your lips close to mine as long as they do...   October 22, 2012   \n",
       "2033  i remember when we broke up the first time say...    August 13, 2012   \n",
       "\n",
       "            Artist                                    Track  \n",
       "0        21 Savage                                Lil Bitch  \n",
       "2              404                                   Filler  \n",
       "3              404                    Finding Something New  \n",
       "4              404             Lead Me to the Promised Land  \n",
       "5              404                                  Obscene  \n",
       "...            ...                                      ...  \n",
       "2029  Taylor Swift                           Stay Stay Stay  \n",
       "2030  Taylor Swift                            The Last Time  \n",
       "2031  Taylor Swift                            The Lucky One  \n",
       "2032  Taylor Swift                              Treacherous  \n",
       "2033  Taylor Swift  We Are Never Ever Getting Back Together  \n",
       "\n",
       "[2033 rows x 4 columns]"
      ]
     },
     "execution_count": 21,
     "metadata": {},
     "output_type": "execute_result"
    }
   ],
   "source": [
    "lyrics"
   ]
  },
  {
   "cell_type": "markdown",
   "metadata": {},
   "source": [
    "**Create dataset of songs and their corresponding lyrics as csv**"
   ]
  },
  {
   "cell_type": "code",
   "execution_count": 22,
   "metadata": {},
   "outputs": [],
   "source": [
    "lyrics.to_csv('lyric_data.csv', index=False)"
   ]
  },
  {
   "cell_type": "markdown",
   "metadata": {},
   "source": [
    "**Create another dataset of lyrics by artist as csv**"
   ]
  },
  {
   "cell_type": "code",
   "execution_count": 23,
   "metadata": {},
   "outputs": [],
   "source": [
    "artist_df = lyrics.groupby('Artist')['Lyrics'].apply(lambda x: ' '.join(x)).reset_index()"
   ]
  },
  {
   "cell_type": "code",
   "execution_count": 24,
   "metadata": {},
   "outputs": [
    {
     "data": {
      "text/plain": [
       "'qtip qtip phife dawg yo yall ready yo phife you ready cons you got that part right aight i dunno but it dont matter who choose to set it off atcq no doubt my niggas is boss little halfass rappers yall pissin me off time to dead em all off yo no matter the cost hook consequence black they dont make thugs of this caliber spasmodic who kept up the buzz the whole calendar black used to sell drugs out the challenger spasmodic used to keep guns with the silencers black they dont make thugs of this caliber spasmodic who kept up a buzz the whole calendar black used to sell drugs out the challenger spasmodic now look what he does to any challenger  phife dawg now who want it with the trini gladiator mid finger to you haters you biters not innovators i take zero for granted i honors my gift champion pen game plus im freestyle equipped you clowns be bum sauce speak my name its curtains hamdulillh my crews back to workin trash rap the dead pussy kill the chirping no more fuck boys sit down shit can only get worse and how do you touch mic with flows uncertain speak game dry boy that flow aint workin folks throwin items them vex and cursin fuck made me wanna see these niggas in person third song in motherfuckers dispersin only to realize donald juice in the buildin big tune this for man woman and children back on my bullshit busta bus then we kill them hook consequence black they dont make thugs of this caliber spasmodic who kept up the buzz the whole calendar black used to sell drugs out the challenger spasmodic used to keep guns with the silencers  qtip my nigga spirit be talkin to me let me explain not through evil mediums tarot cards and ouija games but through mixing chords and boards and even drum machineshe be saying nigga fuck awards keep reppin queens and dont be taking slack from these nonrapping niggas man that intellectual shit you spit you better change your plan especially when you see em at the lobby of a label and they dont seem able to outstretch they hands and admit they fans you better flame em in the js that they standing in ostracize they memory for not remembering the articles reduce their body parts to particles and dust the dead sea with their cremated molecules im leaving but nigga you still got the work to do i expect the best from you im watching from my heaven view dont disappoint me make sure that they anoint me as the blue ribbon pedigree the best of show fivefootthree speak of the legacy for short people around the world napoleonic bionic people who cause the world to twirl rip every stage with grace look right dead in they face live the tribe principle of havin impeccable taste enjoy that breath like that one was your last one left if you dont believe me tip theres truly life after death so refer to the biggie covers and shoutout my trini brothers and please check in on my mother malik izaak call me shorty hook consequence black they dont make thugs of this caliber spasmodic who kept up the buzz the whole calendar black used to sell drugs out the challenger spasmodic used to keep guns with the silencers black spasmodic phife dawg conrad tokyo sapporo pistachio just done mash a show dawg is off on sabbatical rather watch the nixon shit than politicians politic cnn and all this shit gwaan yo move with the fuckery trump and the snl hilarity troublesome times kid no times for comedy blood clot you doing bullshit you spewing as if this country aint already ruined in lieu of these mumbling fumbling swearing theyre the greatest online they debate us if we different then were haters we ended our hiatus the dogs looking for food the nucleus is here now ooo  kendrick lamar toleration for devastation got a hunger for sin every nation obama nation let the coroner in crooked faces red and blue laces for the color of men just embrace it and die alone song of revelation reverends and cattles racing devils and demons and deuteronomy fumigate our economy lluminate broken dreams and manifest all insanity look around sayonara tomorrow its just blood on the ground hook a tribe called quest kendrick lamar conrad tokyo sapporo pistachio sayonara tomorrow its just blood on the ground conrad tokyo sapporo pistachio sayonara tomorrow its just blood on the ground conrad tokyo sapporo pistachio sayonara tomorrow its just blood on the ground conrad tokyo sapporo pistachio sayonara tomorrow its just blood on the ground conrad tokyo sapporo pistachio conrad tokyo sapporo pistachio conrad tokyo sapporo pistachio conrad tokyo sapporo pistachio  a tribe called quest conrad tokyo sapporo pistachio conrad tokyo sapporo pistachio conrad tokyo sapporo pistachio conrad tokyo sapporo pistachio guitar solo jack white qtip phife dawg jarobi qtip phife dawg qtip jarobi handle rocks with the capital g ball on the beat status chris paul and john wall in the league grabbin mics till the knuckles would bleed cause i believe the potent that im quoting will have you geeked like speed if rationale is naturale or a weave its all edges and peas settin press we on a permanent steeze im in a world where my princess is leia and shes feeling my vader and my lure grows greater and greater chem trails droppin poisonous vapors have you shaking like gator been trill nigga process the data bluray wave file or a beta ill dvr it for later kappo masa with a g to my waiter you cant define us xy us or z us you generational elitists have your chi in virtual think pieces see these written words are poetical science brains defiant thoughts heavy baby theyre a major applianceleave a dent when drop with the flyness fluent giant dudes nice he tight screwed in with some pliers cool with some buyers yeah nigga cool with some growers never no tattletales only i dont knowers we a show me generation show us what you gon show us so listen mami see we could collude with a boing mouthpiece like goines with a jubilant noise dudes rude and as useless as coins shoot em boys d in rehearsed in the soothing of loins talk to joey earl kendrick and cole gatekeepers of flow they are extensions of instinctual soulits the highest in commodity grade and you could get it today  dis generation dis generation dis generation dis generation dis generation dis generation rules di nation  qtip busta rhymes jarobi phife one hitting reading pages of poe telly is low cuddle bunny ready to go day of the dead bury all the zombies instead and its just your aftermath busta cuttin your dreads bruce leein niggas while you niggas ufc smoke tree on niggas sizzle out your usb surge pricing on these ubers imma get me a cab yo where jarobi at imbibing on impeccable grass i be in nyc waiting for that law to pass pass shit been waiting for a jets title since last richard todd todd bowles gang green on that ass magic mike on the mic david blaine douglass henning in the church of busta rhymes its my sermon youre getting horizontal spittin im the exorcist of your writtens dont interrupt me nigga sorry thats a sin unforgivenlike how we be skipping on beats like cooking crack in the kitchen bbbbbbbut wait just spit the package dry it bag up the wet this mad citys not a game easy quiet on set phife student of the past trailblazing a daze not acknowledging a trend or swept up in a phase we still the highest of commodity grade and you could get it get it get it get it today  dis generation dis generation dis generation dis generation dis generation dis generation rules di nation  qtip this is our generation generation uh huh yeah this our generation generation uh huh this our generation generation uh huh qtip ego ego skippin trippin in my mind ego ego skippin trippin in my mind ego ego trippin trippin trippin trippin trippin ego ego i got one you got one and now we equal sometimes it makes you trip out on your people sometimes it has connotations of evil sometimes niggas call on it when they need to its called the ego  qtip ay its hard to really make the subject positively stated some may hate it and some may overrate it its a top story and you rarely see a trend so all you psychoanalysts pull out your pad and pen its called the ego come up with an idea and no one seems to get it then every time you mention it they stare like youre twoheaded but one day in your cubicle your idea really comes to view your boss is walking by he sees it too and he takes it from you she put you on the aces of all the stripper places and has the kinda clientele where niggas trick off very well you beg her and you plead her and you tuck away your ego she knows you need the chicken and you know that shes your people they call you fat and lazy your commentary crazy they photoshop your face on a box of mccormick gravy and now that inner voice that ego making you get wavy change your diet hit the gym and say what were you saying to me the ego makes you do it it makes you face the music or run away from life so fast that youll outsprint carl lewis it has you think your deceptive ways of being are the truest had the prettiest brown eyes but you change them shits to the bluest its the ego  qtip ooo jack white ooo jack white  qtip a celebrated genius my dick game is the meanest ill take the girl thats augmented new me is invented ill take the biggest house in calabassas anyone for michael phelps swimming classes you need it when youre balling equally when youre falling or when those kids in school on your locker they get to scrawling epithets thats racist is stupid and mean in nature something that can make you feel stronger when people hate ya ego make you violent or govern like a tyrant or switch a dictionarys word from vibrant to vivrant fool the thirsty people selling tap water in bottles fooled a girl with nyu scholarship and now she models ego has no ending has people pretending religious zealots get jealous cause guys want their defending this is the last tribe and our ego hopes that you felt us and closing for our ego we know only god can help us  ego ego skippin trippin in my mind ego ego skippin trippin in my mind ego ego trippin trippin trippin trippin trippin ego ego skippin trippin in my mind ego ego skippin trippin in my mind ego ego trippin trippin trippin trippin trippin ego ego skippin trippin in my mind ego ego skippin trippin in my mind qtip is this enough is this enough is this enough is this enough enough enough enough  jarobi yo im savant with the game gon tell robi yo name provide words thats heard setting your body aflame ooh you off the chain im handling your terrain your valley hhas me standing down to the follicle bout half of this bottle full of reasons for us to ball palming violations and travel vacation ma lace your fancy bra gon take them vestments off skin and my lips involved im licking a place thats soft jedi  qtip is this enough is this enough love that i give to you is this enough is this enough time that i give to you is this enough tell me that you feel the same way i do is this enough enough enough enough  qtip is it an issue if i make you nut but theres no quality time cause i forever grind this is not an excuse i just wanna get loose thats old nigga jargon girl youre making me hardened to a stone or granite statue im prone to get at you its hard to break your defense i guess i have to leap fence or scale wall and break fall on a tree right by your window reward me for my efforts by rolling this indo as i nibble your neck naughtily sex is a big part of me agencies want to audit me searching snooping for sodomy my thrust bust artery i know youre on to me just wanna have shenanigan dont wanna make you mad again so focus on the flattery you feel when i fling it acknowledge that i got it and you love it when i bring it dirty talk loud but they saying fuck the shit out of me at the queens request if its gotta be its gotta be  qtip is this enough is this enough love that i give to you is this enough is this enough time that i give to you is this enough tell me that you feel the same way i do is this enough is this enough is this enough love that i give to you is this enough is this enough time that i give to you is this enough tell me that you feel the same way i do is this enough andr i aint even gon lie i was probably high just forgot to call you back simple as that i aint no almanac so lick my dictionary i might just call a cab cause i dig canary yellow accents on a dark bitch i met her back when she kept all her carpet im well aware all that shit is fantasy i double dare yall to fuck your plan b thats demeanor mommas mannerisms that mean dont mean to get vulgar but its some hoes in this bitch like a box of donuts its cold out in this bitch standing on the corner condolences to niggas that got erased i pour out some liquor on a cops grave mmm digital church bells ringin cross the street sure work well hook andr qtip kids kids dont you know how all this shit is fantasy kids kids dont you know how all this shit is fantasy kids kids dont you know how all this shit is fantasy kids for real for real for real for real kids dont you know how all this shit is fantasy kids kids dont you know how all this shit is fantasy kids kids dont you know how all this shit is fantasy kids for real for real for real for real  qtip i dont wanna get up now i dont wanna go to school i dont wanna be the best dont wanna follow rules mom i think you fuckin lied to me three stacks said all this shit is fantasy its my time gon put a little life to it if lifes a obstacle then imma bike through it i see it like a kiddie on the carousel if i url while i go around what the hell and that went well so im compelled to have visions of getting chicken while my friends get jel my young nigga motto was fuck it im already grown and i dream of when im sixteen im out my home that petty though cause my mama boyfriend dough its kinda long like this old head hustle yo he cognizant of a nigga ride and die i see us getting money through my green eyes hook andre qtip kids kids dont you know how all this shit is fantasy kids kids dont you know how all this shit is fantasy kids kids dont you know how all this shit is fantasy kids for real for real for real for real  andr qtip yeah all the kids all the what uh yeah all the badass kids uh kids say im the shit im chickfila nuggets mcdonalds french fries the spicy popeyes and red lobster biscuits and girls scout thin mints pardon my penmanship but oh shit feel like im hungry now again and i cant do nothing about it because my teeth are all rotted and my mom and my pop they just grin and empathize with me cause they were little like pygmies but too bad they cant get back they member whens them grownup stories dont work in the court of the kiddies the judgement is in and while yall doing all yall your bids yall reminisce as kids fuck it kids the grownups wont own up they stood on the corner like you once upon a time and probably felt like a loner and smelled like a stoner and snuck to daytona so when they questioning you bout who or who you aint boning complaining that you always moaning never saying good morning storming out my house and slamming doors like you paying bills they been through it too though they were kids like you though but what if they knew though and hit you with the cheat code to a game you just start playing no extra man leave you reckless on the court with no high percentage shot just a bunch of you got em nigga just give it what you got yeah it look a little different on a yacht but aint gon lie i miss kayaking i love the young niggas and they do too they just be acting like a bunch of retired tired thespians a bit too salty shit their blood pressure high why they dont play no more probably hook andr kids kids dont you know how all this shit is fantasy kids kids dont you know how all this shit is fantasy kids kids dont you know how all this shit is fantasy kids kids dont you know how all this shit is fantasy kids kids dont you know how all this shit is fantasy kids kids dont you know how all this shit is fantasy kids kids dont you know how all this shit is fantasy kids kids dont you know how all this shit is fantasy kids kids dont you know how all this shit is fantasy kids kids dont you know how all this shit is fantasy kids kids dont you know how all this shit is fantasy kids kids dont you know how all this shit is fantasy kids kids dont you know how all this shit is fantasy kids kids dont you know how all this shit is fantasy qtip yeah phifefor your life  qtip now in the time when niggas wasnt supposed to be born best of us are left for dead in cities that looks wartorn vietnam going wrong heroin going strong neighbors would whoop that bad ass just for running through their lawn walt met cheryl cheryl met walt trinidadian love sprouting through the asphalt love was consummated and the angels registrated two were to be born but only one of em made it inside a cloud of sorrow a silver lining and joy its a bouncing baby boy a kings name they would employ and before he even squeaks its decided its malik now give him hope give him care raise him while his grandma there watch out momma if you stare light brown eyesll keep you there lets progress the story just a little bit malik i would treat you like little brother that would give you fits sometimes overbearing though i thought it was for your benefit despite all the spats and shits cinematically documented the one thing i appreciate you and i we never pretended rhymes we would write it out hard times fight it out gave grace face to face made it right and now you riding out out out out damn  cat have you ever loved somebody phife dawg man way before you got to dream bow wow woof woof no more crying hes in sunshine  jarobi never thought that i would be ever writing this song hold friends tight never know when those people are gone so so beautiful opined indisputable heart of a largest lion trapped inside the little dude took me quick to granny house now we eat the curry food talking hopes dreams plans leak ice never scared brand new pair of nike airs avenue of sairs mailbox mayors all our rhymes was written there a nigga wanna battle you know phifey didnt care jarobi with the beat into new ass we tear imma flash forward well took a trip to atl cooking in the kitchen making sure my nigga eating well wedding in tobago you know exactly where im at standing on the side of black malik izaak  have you ever loved somebody way before you got to dream no more crying hes in sunshine hes alright now see his wings have you ever loved somebody way before you got to dream no more crying hes in sunshine hes alright now see his wings have you ever loved somebody way before you got to dream no more crying hes in sunshine hes alright now see his wings have you ever loved somebody way before you got to dream no more crying hes in sunshine hes alright now see his wings have you ever loved somebody way before you got to dream no more cry guitar solo jack white refrain qtip i said i rarely dream in color but they dont know and every brother aint a brother but they dont know pop melatonin like they swedish fish they dont know to give her everythings my dying wish they dont know role play she plays the mannequin they dont know raising my hand teacher says not again they dont know the sun is up but i feel down again they dont know on just one hand i can count all my friends they dont know  qtip the understudy for the star the show must go on im a beast on a leash im towed from the lawn another notch in my belt the foods getting scarce another notch in my belt she shakes up the stairs drink liquid confidence tequilas our defense get rid of this tense and makes life make sense as i come off the fence and break through defense anxiety is on the ropes and its gettin intense refrain qtip population gettin tired now they dont know everybody wants inspired now they dont know racist emails fire out they dont know we did it in the dark its coming out they dont know the world is crazy and i cannot sleep but they dont know melatonin good enough to eat but they dont know i read the paper so that i can see what they dont know id rather stay indoors and make a beat but they dont know  qtip my mother said a lot of wise words to me her bible was like her toolie peasyheaded and unruly i made her think she got to me following the trail of reefer and niggas talking through speakers fattest laces through my sneakers the rappers ere ghetto preachers thought i had it so i tried it for so long i would just hide it then i made the crowds say hoo and saw them all get excited i was hooked i couldnt shake it the more i got i would take it couldnt sleep andcouldnt eat but this life i would not forsake it refrain qtip i said i really dream in color now they dont know and every brother aint a brother now they dont know pop melatonin like they swedish fish they dont know to give her everything my dying wish they dont know  abbey smith so many thoughts in my mind making it very hard to unwind i guess i should take one just one so many thoughts in my mind making it very hard to unwind i guess i should take one just one so many thoughts in my mind making it very hard to unwind i guess i should take one just one so many thoughts in my mind making it very hard to unwind i guess i should take one just one  qtip this ones for good girls that all gone bad just one this one im taking when i feel sad just one yeah this one im taking to make me strong just one this one im taking so that ill live long just one yeah this one im taking to make me smile just one this one im taking to make life worthwhile just one this one and that one and those and these just one i just want to sleep i want to be at ease just one consequence i break bread ribs hundred dollar bills dream about bugattis and other fourwheels they say illuminati and other ordeals is how my lawyer got me to avoid a raw deal and now its more real than it is for any other star and thats enough to have you tearing up the minibar i should probably get awards where the emmys are for how i deal with the pap like remy ma i get in the car like a snipers on the roof now but dont confuse how you see me have to move now i got bars like a cyphers in the booth now ooh child things are gonna get easier long as they get my page right on wikipedia long as they say my name right in the media if you dont thats a sin like cincinnati cause ever since i had the polo suit at the grammys i been spittin at the camera like trick daddy so swaggy he couldve broke up with ig i aint surprised that they broke up on ig i got the game on iv might as well have a live feed keep a fresh cut from ib so i always match the picture in my id they packin dub c had ran with mack i was still a baby similac then and what the crack era did to black men it had to be an error if you had a cadillac then  busta rhymes how i rock mine i throw it up makin sure that you niggas all are on the same page powerful force you better look both ways fuck that im chokin niggas its goin down im from a different cloth we the oracles of the sounds skip town hit em with impeccable pound lost found the way i flood it niggas gon drown rip shitayo wait wait wait wait i gotta do it again i gotta do it again you already know the script roundhouse kick she lookin at me lickin her lip put my arm around her like a bowl of chip with a dip with yo bitch what the fuck niggas erupt i got the half moon clip thats banana a good planner a new anger like a larger bruce banner out the house nigga if you open your mouth man nigga if you open your mouth fuck the press im leavin every room in a mess like herds of bulls with they aprons on and bakin soda keep it movin keep the convo short and bring a case of henney case of henney house of pain i control many control many house of lies you niggas go run hide peep the way this vibe conflict with they real lives nigga fanatic shit we go bizarre we go bizarre bad news for niggas as i go emphatical radical national animal rulin like a czar every time i black for the record the shit splatter the whole batter no bullshit the boom bapper i pull the gat up whip the shit cook the batter when i pull up on niggas even your momma gon scatter barishkaaa jarobi i hope my legendary style of rap lives on afixed to the earth like my feet they got cleats on im moving backwards never that was never the plan pushing shit along render stillness in the quick sand asphalt jumpin junkie lyrical concrete my jedi mind be moving me throughout the many dark streets backwoods boondocks whatever terrain auf wiedersehen aloha man our feet aint the same i wont abuse these shoes these shoes aint made for reversing then trudging through these motherfuckers first album footprinting never ever ghostwritten yo shit free bitten grab my shit with both hands iron grip steel mitten bloviated jarobi ate it and now its gone closed mouths dont get fed or move ahead to my hustlers with customers scam my chicks just being petty trap lords with the fetty dont be no backwards no no backward ass nigga dont be no backwards no no backward ass nigga dont be no backwards no no backward ass nigga dont be no backwards no dont do it nigga  anderson paak i spun around without a care when i stopped i felt lost im two heels from the top tier really want to be boss i figured it out figured it out somewhere maybe the answers not out there maybe its on the ground somewhere when i stopped i felt lost do you ever feel lost  anderson paak they wanna see my downfall turn a good day into a downpour thorns in the crown hit the cross i bear why they wanna see me hangin like a towel somewhere one eye two bills three tears a heart still how im feelin in my mind right here think im moving i aint going nowhere nowhere maybe why i feel lost yeah how im posed to know how home feels i aint even on my home field and again i feel lost was not a cruise that brought us here again i feel lost and i refuse to be stuck right here yeah i dont want to move backwards no somebody just give me somebody just give me somebody just give me direction i dont want to move backwards no somebody just give me somebody just give me somebody just give me directions i dont want to move backwards no  qtip moving backwards never that was never the plan can i vent i was content being my own man up until that night illfated walking home i was faded po puts braces on my wrist like he was clapping his hands how demeaning yall who could be blind to racism bring bro bro to me for the brotherly baptism instead of slaps give him the dose of ab wisdom hell make it out of the jungle some way hey its figurative not a real place you stay ay its mind state filled with muck and malaise uh i got direction without using waze submitting myself to praying these days yeah moonwalking backwards its only for stage  anderson paak qtip anderson paak feds lining up in riot gear and everybodys hands in the air fourfive so get your ass found somewhere caught between hope and despair say it loud what it take to make my niggas listen somebody just give me somebody just give me somebody just give me cool out chill out nigga im cool cool out nigga nah nigga im through head down aint no tellin what you gon do somebody just give me somebody just give me somebody just give me direction i dont want to move backwards no cops killing us niggas everywhere maybe we should get some guns too she come around every now and a few man i hope she really loves you living high aint hard to do shell be in the clouds somewhere feeling fresh i strut your bitches out of here might even take your broad too oops im bout to get kicked out here tell mama imma slide through stealer im trying to get out of here but stuck up in the same room too many open miles in here sick of eating out at drive through  hahaha look at this motherfucker elton john a tribe called quest gonna hear electric music what you gon hear gonna hear electric music what you gon hear gonna hear electric music solid walls of sound solid walls of sound solid wall of sound solid wall of sound solid walls of sound solid wall of sound solid wall of sound solid walls of sound pressure breaking ground pressure breaking sound solid walls of sound solid wall of sound solid wall of sound solid walls of sound tip and phife in town tip and phife in town solid walls of sound solid wall of sound solid wall of sound solid walls of sound solid wall of sound pushing breaking ground solid walls of sound solid wall of sound solid wall of sound solid walls of sound jedi ali phifey tip solid walls of sound jedi ali phifey tip solid walls of sound jedi ali phifey tip solid walls of sound jedi phifey phifey  phife dawg qtip yo atcq massive and crew bars to any beat we beat the beat for true massengale mcs you smell like pussy stew dont let it be you man up my youth phife you shouldve spoke of man yourein the mode of leave that to me elhajj malik the man with a plan who went for it all like marauders on a mission when we killin dance halls mmm saga boy trini man ride out when mic is in mi hand loved all of mi fans one two three of dem all of the gang  busta rhymes qtip phife with a couple pound a weed and a couple dollar van hmm broke pockets find another plan yeah cyan dun push up on the one and big up the sound man dibby dibby dj walk ayo bus with them a talk they dont want no prob they dont want no issue outline them in bloodclaat chalk earlier in the night when we bring out the music with a box and a band killer sound boy movement live and direct when it all goes down you an idiot boy you dont wanna fuck round big tune make the world go round make way for the sound boy crown dont you know were the wickedest sound one box off in your face make a sound boy frown  elton john a tribe called quest solid wall of sound solid wall of sound solid wall of sound solid wall of sound solid wall of sound solid wall of sound solid wall of sound solid wall of sound solid wall of sound solid wall of sound solid wall of sound solid wall of sound solid wall of sound solid wall of sound solid wall of sound solid wall of sound  qtip elton john sound checking a million watts are shaking the room in just a few hours youre gonna feel the burn all of the goons are checking their guns at the door a solid wall of sound is here on tour its gonna get loudso no phones allowed its gonna get loudso no phones allowed busta rhymes phife dawg what a go on with the crew nuff ting thats why me had to come through phife dawg you spit wicked every  them no say respect the trini man first phife dawg i know you had the man shook up good shit cause you a mastermind that cook up phife dawg what a go on with the crew nuff ting thats why me had to come through phife dawg you spit wicked every  them no say respect trini man first phife dawg i know on the one and twos give me that wwwait damn thats the one part i alright let me say phife dawg i know you on the one and twos give me a zooguh zooguh and do exactly what you do tribe called quest you see them back with one another ayo busa bus them dont want no problem brotha musical break  phife dawg phife dawg legend you could call me don juice im the shit right now what you need to see proof recently on the internet they chatting taking polls debating who could win in battle rapping lets make it happen these cyber flows already par no subliminals with me you know who the fuck you are who wanna spar haha well here i are orthodox spitter or bring on the southpaw no doubt imma set it dudes best be ready off top on the spot no reading from your whackberry leave the iphones home skill sets must be shown imma show you the real meaning of the danger zone huh i got it sewn eh speak to all clones untouchable in my zone watch it dont leave him alone fuck your ass cheek flows with bars sweeter than scones put down microphone  qtip yes yes he the wrong ones to fuck with no matter what the day he could catch you on his plane or the one you on today visit niggas in their dreams and make them scream of bloody murder hes a trini gladiator aint no need to take it further if you wanna take it further your huckleberry is here doctor of your holiday wyatt earp ya like the tears we gon celebreate him elevate him papa had to levitate him give him his and dont debate him top dog is the way to rate him interlude  don juice don juice don juice phife dawg what a go on with the crew phife dawg thats why i had to come through phife dawg you spit wicked every  phife dawg respect the trini man first phife dawg i know you had the man shook up phife dawg cause your mastermind cook up phife dawg you know they back with one another phife dawg them dont want no problem brotha step back them dont want no problem brotha step back them dont want no problem brotha step back them dont want no problem brother don juice step back them dont want no problem brotha phife dawg don juice phife dawg what a go on with the crew phife dawg thats why i had to come through phife dawg you spit wicked every  phife dawg respect the trini man first phife dawg i know you had the man shook up phife dawg cause your mastermind cook up phife dawg you know they back with one another phife dawg them dont want no problem brotha step back them dont want no problem brotha step back them dont want no problem brotha step back them dont want no problem brotha don juice phife dawg what a go on with the crew phife dawg thats why i had to come through phife dawg you spit wicked every  phife dawg respect the trini man first phife dawg i know you had the man shook up phife dawg cause your mastermind cook up phife dawg you know they back with one another phife dawg them dont want no problem brotha step back them dont want no problem brotha step back them dont want no problem brotha step back them dont want no problem brotha don juice step back them dont want no problem brotha phife dawg talib kweli winter in america never knew white christmas cause squares always making my shit list spring is in the air and all the flowers are blooming the powers that be wanna devour the movement tears disappear when they fall on the summer rain bleedin through this mic but they call it entertainment running across stages is a drug is like a blunt that we crumble in raw papers call it the lords name cause we taking it in our veins like the feeding us intravenous its war and we fighting for inches and millimeters they try to stall the progress by killing off all the leaders if we dont give them martyrs no more they cant defeat us this lack of justice got us disgusted look at our faces all these soldiers hate but i saw military training the false flags fly at a half mast this morning take a bow this might be your last performance hook kanye west they sold ya sold ya sold ya they sold ya sold ya sold ya they sold ya sold ya sold ya they sold ya sold ya sold ya they sold ya sold ya sold ya they sold ya sold ya sold ya they sold ya sold ya sold ya they sold ya sold ya sold ya  consequence the old lady saw us on the lawn with the henny turn the pool party into the one from mckinney mightve been racist like the waitresses up in dennys swore we had twelve gauges automatics and semis now they wanna condemn me for my freedom of speech cause i see things in black and white like lisa and screech presidents get impeached and others fill in the throne but veterans dont get the benefit of feelin at home so maybe those projections out at silicon are what drove her to get injections made of silicone i swear its the killing season cause killin is still in season yeah  jarobi louder than a three pound voices screaming mad to boot it must be killing season on the menu strangefruit whose juices fill the progress of this here very nation whose states has grown bitter through justice expiration these fruitful trees are rooted in bloody soil and torment things havent really changed or theyre dormant for the moment marks and scars we own it only makes for tougher skin helps us actualize the actual greatness held within been on the wrong team so much cant recognize a win seems like my only crime is having melanin connection to the sun so strong the relationship is lusted for causes men to suffocate i cant breathe no more settle the score sadly need an abacus to tally through all the peaks and valleys yo i recognize it sadly black soul bold enough inner city cold enough watch me get all my goons watch us get soldiered up  kanye west they sold ya sold ya sold ya they sold ya sold ya sold ya they sold ya sold ya sold ya they sold ya sold ya sold ya they sold ya sold ya sold ya they sold ya sold ya sold ya they sold ya sold ya sold ya they sold ya sold ya sold ya imma deal with a bigger insult man the heat the heat the heat the heat its comin down hard weve got to get our shit together  qtip phife dawg its time to go left and not right gotta get it together forever gotta get it together for brothers gotta get it together for sisters for mothers and fathers and dead niggas for nonconformists one hitter quitters for tyson types and che figures lets get it together come on lets make it gotta make it to make it to make it to make it to make it to make something happen to make something happen to make something happen lets make something happen  qtip jarobi word to phifer gonna bring it to the overlord drinkin cisco chilling with the gold microphone cords and we grip our balls every time we stuntin on tour cause we never bore responding to the ready crowds roar and promoters try to hit us with the art of war we about our business we not quitters not bullshitters we deliverwe goget it dont be bitter cause we not just niggas jarobi my fiber wove into different cloth aint nothing forbidden this nigga get his written off hardest spit in the city yall niggas spitting kitten soft confused and amazed shook up with your brain missing lost they planning for our future people none of our people involved pouring henny and smirnoff to get it cracking off cracking off a smirnoff to quickly turn to molotov molotov the spaceship doors before that bitch is taking off it always seems the poorest persons are people forsaken dawg no washingtons jeffersons jacksons on the captains log theyd rather lead us to the grayest water poison deadly smog mass unblackening its happening you feel it yall rather see we in a threebythree structure with many bars leave us where we are so they can play among the stars they taking off to mars got the space vessels overflowing what you think they want us there all us niggas not going reputation aint glowing reparations aint flowing if you find yourself stuck in a creek you better start rowing used to see the tv screen as the place to land my dream in and the car stereo where they would promote the show optimistic little brother with a hope you know hook move on to the stars there aint a space program for niggas yeah you stuck here nigga move on to the stars there aint a space program for niggas yeah you stuck here nigga move on to the stars there aint a space program for niggas yeah you stuck here nigga move on to the stars there aint a space program for niggas yeah you stuck stuck stuck move on to the stars  qtip sit and wonder sometimes i read the paper every day all these happenings is cycular just happen different ways and the presidents refined in her wing shes confined with about thirty percocets and five bottles of wine carolina nothing finer than a black woman who climbs to the top of the state building claiming that that flag is mine now people on top of people feels like we cant breathe put so much in this muthafucka feel like we shouldnt leave put it on tv put it in movies put it in our face these notions and ideas and citizens live in space i chuckle just like all of yall absurdity after all takes money to get it running and money for trees to fall imagine for one second all the people are colored please imagine for one second all the people in poverty no matter the skin tone culture or time zone think the ones who got it would even think to throw you a bone moved you out your neighbourhood did they find you a home nah cypher probably no place to imagine if this shit was really talkin about space dude imagine if this shit was really talkin about space dude imagine if this shit was really talkin about space dude  phife dawg time to go left and not right gotta get it together forever gotta get it together for brothers gotta get it together for sisters for mothers and fathers and dead niggas for nonconformers wont hear the quitters for tyson types and che figures lets make somethin happen lets make somethin happen lets make somethin happen lets make somethin happen gotta get it together for brothers gotta get it together for sisters for mothers and fathers and dead niggas for nonconformists onehitter quitters for tyson types and che figures make make make lets make somethin happen lets make somethin happen lets make somethin happen lets make somethin happen gotta get it together forever gotta get it together for brothers gotta get it together for sisters for mothers and fathers and dead niggas for nonconformists onehitter quitters for tyson types and che figures lets make somethin happen lets make somethin happen gotta get it together for brothers gotta get it together for sisters for mothers and fathers and dead niggas for nonconformists onehitter quitters for tyson types and che figures make make make lets make somethin happen lets make somethin happen lets make somethin happen lets make somethin happen gotta get it together forever gotta get it together for brothers gotta get it together for sisters for mothers and fathers and dead niggas for nonconformists onehitter quitters for tyson types and che figures lets make somethin happen lets make somethin happen gotta get it together for brothers gotta get it together for sisters for mothers and fathers and dead niggas for nonconformists onehitter quitters for tyson types and che figures make make make lets make somethin happen lets make somethin happen lets make somethin happen lets make somethin happen  the danger must be growing for the rowers keep on rowing and theyre certainly not showing any signs that they are slowing were there where here a small step for mankind but a giant step for us oompa loompa doopa dee doo ive got another puzzle for you qtip wed like to say to all of those people around the world all of those people who are pushing people who are in power to represent themtonight we represent you and we also dedicate this to our brother whos not here phife dawg  award tour get up get up get up everybody we going back it goes it goes it goes it goes we on award tour with muhammad my man going each and every place with the mic in my hand grab it come on come on bring that back bring that back bring that back record scratch  can i kick it can i kick it yes you can can i kick it yes you can can i kick it yes you can well im gone go on then come on lets go are yall ready are yall ready are yall ready are yall ready  award tour we on award tour with muhammad my man going each and every place with the mic in my hand grab it come on come on we on award tour with muhammad my man going each and every place with the mic in my hand grab it qtip anderson paak  movin backwards clap your hands yall uh uh clap your hands yall hey hey hey i dont want to move backwards no somebody just give me somebody just give me somebody just give me direction i dont want to move backwards no i hope my legendary style of rap lives on afixed to the earth like my feet they got cleats on im moving backwards never that was never the plan pushing shit along render stillness in the quick sand sing it sing it somebody just give me somebody just give me somebody just give me direction  anderson paak i spun around without a care when i stopped i felt lost im two heels from the top tier really want to be boss i figured it out figured it out somewhere maybe the answers not out there maybe its on the ground somewhere yeah yeah i dont want to move backwards no i cant go back in somebody just give me somebody just give me somebody just give me direction cant listen in hey i dont want to move backwards no  we the people busta rhymes consequence hey yo consequence what up bus im not feeling the political climate right now yo i feel you i feel you i just want to thank president agent orange what up cheeto for perpetuating all of the evil that youve been perpetuating throughout the united states wall i want to thank president agent orange for his successful attempt at the muslim ban when we come together we the people lets go we dont believe you cause we the people are still here in the rear ayo we dont need you you in the killingoffgoodyoungbrother mood when we get hungry we eat the same food the ramen noodle your simple voodoo is so maniacal were liable to pull a juju the irony is that this bad bitch in my lap she dont love me she make money she dont study that she gon give it to me aint gon tell me run it back she gon take the brain to wetter plains she spit on that the doors have signs with dont try to rhyme with has a show that you can waste your time with guilty pleasures take the edge off reality and for a salary id probably do that shit sporadically the og gucci boots are smitten with iguanas the irs piranha see a brother gettin commas brothers in my hood living in a fishbowl gentrify here so its not no hole trendsetter ayo i know its cold top yo if i could be so bold but now you  anderson paak all of the bad folks you must go darkskinned youve gots to go all of my poor folks you must go steal from us every day and i give them dough and all of them mexicans you must go dont forget about the chinese and filipinos muslims and gays youve gots to go boy we hate your ways just go away all of our rap folk you must go qtip phife dawg  phife dawg the fog and the smog of news media that logs false narratives of gods that came up against the odds were not just nigga rappers with the bars its kismet that were cosmic with the stars you bastards overlooking street art better yet street smarts but you keep us off the charts who can come back years later still hit the shot still them tryna move we off the block all babylon bloodclaat two pon yuh headtop  anderson paak all of my black folks you must go darkskinned youve gots to go all of my poor folks you must go still hustling every day and and all of ya mexicans you must go dont forget about the chinese and filipinos muslims and gays just go away boy we hate your ways and they hate your ways all of you bad folks you must go qtip we dont believe you cause we the people are still here in the rear ayo we dont need you you in the killingoffgoodyoungnigga mood when we get hungry we eat the same fucking food the ramen noodle your simple voodoo is so maniacal were liable to pull a juju the irony is that this bad bitch in my lap she dont love me she make money she dont study that she gon give it to me aint gon tell me run it back she gon take the brain to wetter plains she spit on that the doors have signs with dont try to rhyme with has a show that you can waste your time with guilty pleasures take the edge off reality and for a salary id probably do that shit sporadically the og gucci boots are smitten with iguanas the irs piranha see a nigga gettin commas niggas in the hood living in a fishbowl gentrify here now its not a shit hole trendsetter i know my shits cold aint settling because i aint so bold but ay hook qtip all you black folks you must go all you mexicans you must go and all you poor folks you must go muslims and gays boy we hate your ways so all you bad folks you must go  phife dawg qtip the fog and the smog of news media that logs false narratives of gods that came up against the odds were not just nigga rappers with the bars its kismet that were cosmic with the stars  phife dawg you bastards overlooking street art better yet street smarts but you keep us off the charts so motherfuck your numbers and your statisticians fuck yall know about true competition thats like a al pitcher on deck talking about he hittin the only one whos hitting are the ones thats currently spittin we got your missy smitten rubbing on her little kitten dreaming of a world thats equal for women with no division boy i tell you thats vision like tony romo when he hitting witten the tribe be the best in they division shaheed muhammad cut it with precision who can come back years later still hit the shot still them tryna move we off the fucking block babylon bloodclaat two pon yuh headtop hook qtip all you black folks you must go all you mexicans you must go and all you poor folks you must go muslims and gays boy we hate your ways so all you bad folks you must go girl this motherfuckers got rhythm  phife dawg say am i posed to be dead or doin life in prison just another dummy caught up in the system unruly hooligan who belongs in spofford  getting that degree at stanford or harvard threatened by my work ethic the way i speak yo should i be mentally weak  being malik yo should i be trapped in the trap would you prefer that fourth grade reading level but he knows how to rap are you amused by our struggles the english thats broken the weed that im smokin the guns that im totin the drugs that im sellin no need for improvement fuck you and who you think i should be forward movement  jarobi melanated shrouded in complexity brain charge shocking like lectricity mouth translate happens organically the media relates it what it thinks it sees judging steps in shoes of a path they never walked shot down in a blaze of a phrases is how they talk dark skinned walk with a bot portrayed villain im chillin felon down to the dna crime willin subliminate their youth hypersexualize their women they aint got the strong enough hold so they built the prisons pumping false religions to all of these niggas systems every voice devoid of the truth come on listen  qtip man look at this man look at this whatever will be will be like a billionaire investin in a niggas dreams certainly a head scratcher like pac and bigs killers capture or a women with the wisdom whos leadin the way the rarity is in the rear but never today man picture a pd lettin good records play on the strength of what it is not the finesse of your biz and your lady calls you dirty her dirts under rugs youll find out only if she tells you take her kiss and hug cuz in the answer for cancer in a prodigious kids mind yes the government will fund learning is free for everyone and from that lie young leaders will rise in the eyes of despair and adversity in some uni this  will be true hook qtip everybody runnin when they see the storms comin but whatevers gonna be will be everybody runnin when they see the storms comin but whatevers gonna be will be some will dash to the mountain some will crawl and the weakest amongst them they will fall but the strongest in faith they will stand tall everybody runnin when they see the storms comin but whatevers gonna be will be  consequence i just wanna feel as liberated as lions in liberia cause recently my heart turned cold as siberia cause everywhere i go bein cold is the criteria lets see how well you know all your tribe trivia green and the white we servin that nigeria north side of queens oneninetwo is the area this is for my dawgs from shih tzus to terriers fuck it its showtime tip make sure they hearing you'"
      ]
     },
     "execution_count": 24,
     "metadata": {},
     "output_type": "execute_result"
    }
   ],
   "source": [
    "artist_df.iloc[3].Lyrics"
   ]
  },
  {
   "cell_type": "code",
   "execution_count": 25,
   "metadata": {},
   "outputs": [],
   "source": [
    "artist_df.to_csv('lyrics_by_artist.csv', index=False)"
   ]
  },
  {
   "cell_type": "code",
   "execution_count": null,
   "metadata": {},
   "outputs": [],
   "source": []
  }
 ],
 "metadata": {
  "kernelspec": {
   "display_name": "Python [conda env:metis] *",
   "language": "python",
   "name": "conda-env-metis-py"
  },
  "language_info": {
   "codemirror_mode": {
    "name": "ipython",
    "version": 3
   },
   "file_extension": ".py",
   "mimetype": "text/x-python",
   "name": "python",
   "nbconvert_exporter": "python",
   "pygments_lexer": "ipython3",
   "version": "3.7.4"
  }
 },
 "nbformat": 4,
 "nbformat_minor": 2
}
